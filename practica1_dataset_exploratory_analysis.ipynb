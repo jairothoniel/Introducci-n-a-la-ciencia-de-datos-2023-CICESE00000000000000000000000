{
 "cells": [
  {
   "cell_type": "markdown",
   "id": "fb638632",
   "metadata": {},
   "source": [
    "# Practice One (Exploratory data analysis)\n",
    "The goal of this dataset is to introduce basic exploratory data analysis using basic commands and libraries in Python. This dataset was created by taking the information from my own computational simulations and supplementing the information with some articles and open quantum databases where the electronic properties of 2D nanomaterials based on transition metal dichalcogenides have been studied.\n",
    "## References\n",
    "1. Wang, T., Su, M., Jin, H., Li, J., Wan, L., and Wei, Y. (2020). Optical, electronic, and contact properties of Janus-MoSO/MoS2 heterojunction. Journal of Physical Chemistry C, 124(29), 15988-15994.\n",
    "1. Hongsheng Liu, Nannan Han, Jijun Zhao Atomistic insight into the oxi- dation of monolayer transition metal dichalcogenides: from structures to electronic properties. RSC Advances Issue 23, 2015.\n",
    "1. Saal, J. E., Kirklin, S., Aykol, M., Meredig, B., and Wolverton, C. \"Materials Design and Discovery with High-Throughput Density Functional Theory: The Open Quantum Materials Database (OQMD)\", JOM 65, 1501-1509 (2013). \n",
    "1. Jain, A., Ong, S. P., Hautier, G., Chen, W., Richards, W. L., Dacek, S., Cholia, S., Gunter, D., Skinner, D., Ceder, G., & Persson, K. A. (2013). Commentary: The Materials Project: A materials genome approach to accelerating materials innovation. APL Materials, 1(1). \n"
   ]
  },
  {
   "cell_type": "code",
   "execution_count": 7,
   "id": "66a82427",
   "metadata": {},
   "outputs": [],
   "source": [
    "#Import libraries\n",
    "import pandas as pd\n",
    "import numpy as np \n",
    "import matplotlib.pyplot as plt\n",
    "import seaborn as sns"
   ]
  },
  {
   "cell_type": "code",
   "execution_count": 9,
   "id": "c13c1a1e",
   "metadata": {},
   "outputs": [
    {
     "data": {
      "text/html": [
       "<div>\n",
       "<style scoped>\n",
       "    .dataframe tbody tr th:only-of-type {\n",
       "        vertical-align: middle;\n",
       "    }\n",
       "\n",
       "    .dataframe tbody tr th {\n",
       "        vertical-align: top;\n",
       "    }\n",
       "\n",
       "    .dataframe thead th {\n",
       "        text-align: right;\n",
       "    }\n",
       "</style>\n",
       "<table border=\"1\" class=\"dataframe\">\n",
       "  <thead>\n",
       "    <tr style=\"text-align: right;\">\n",
       "      <th></th>\n",
       "      <th>material</th>\n",
       "      <th>phase</th>\n",
       "      <th>primitive_lattice_cell</th>\n",
       "      <th>formation_energy</th>\n",
       "      <th>band_gap</th>\n",
       "      <th>type_gap</th>\n",
       "      <th>janus_material</th>\n",
       "      <th>experimentally_observed</th>\n",
       "    </tr>\n",
       "  </thead>\n",
       "  <tbody>\n",
       "    <tr>\n",
       "      <th>0</th>\n",
       "      <td>MoS2</td>\n",
       "      <td>2D</td>\n",
       "      <td>hexagonal</td>\n",
       "      <td>-1.06</td>\n",
       "      <td>1.64</td>\n",
       "      <td>direct</td>\n",
       "      <td>no</td>\n",
       "      <td>yes</td>\n",
       "    </tr>\n",
       "    <tr>\n",
       "      <th>1</th>\n",
       "      <td>MoSe2</td>\n",
       "      <td>2D</td>\n",
       "      <td>hexagonal</td>\n",
       "      <td>-0.68</td>\n",
       "      <td>1.46</td>\n",
       "      <td>direct</td>\n",
       "      <td>no</td>\n",
       "      <td>no</td>\n",
       "    </tr>\n",
       "    <tr>\n",
       "      <th>2</th>\n",
       "      <td>MoTe2</td>\n",
       "      <td>2D</td>\n",
       "      <td>hexagonal</td>\n",
       "      <td>-0.27</td>\n",
       "      <td>0.66</td>\n",
       "      <td>direct</td>\n",
       "      <td>no</td>\n",
       "      <td>no</td>\n",
       "    </tr>\n",
       "    <tr>\n",
       "      <th>3</th>\n",
       "      <td>WS2</td>\n",
       "      <td>2D</td>\n",
       "      <td>hexagonal</td>\n",
       "      <td>-0.88</td>\n",
       "      <td>3.18</td>\n",
       "      <td>direct</td>\n",
       "      <td>no</td>\n",
       "      <td>yes</td>\n",
       "    </tr>\n",
       "    <tr>\n",
       "      <th>4</th>\n",
       "      <td>WSe2</td>\n",
       "      <td>2D</td>\n",
       "      <td>hexagonal</td>\n",
       "      <td>-0.59</td>\n",
       "      <td>3.17</td>\n",
       "      <td>direct</td>\n",
       "      <td>no</td>\n",
       "      <td>no</td>\n",
       "    </tr>\n",
       "    <tr>\n",
       "      <th>5</th>\n",
       "      <td>WTe2</td>\n",
       "      <td>2D</td>\n",
       "      <td>hexagonal</td>\n",
       "      <td>-0.08</td>\n",
       "      <td>0.81</td>\n",
       "      <td>direct</td>\n",
       "      <td>no</td>\n",
       "      <td>yes</td>\n",
       "    </tr>\n",
       "    <tr>\n",
       "      <th>6</th>\n",
       "      <td>MoSO</td>\n",
       "      <td>2D</td>\n",
       "      <td>tetragonal</td>\n",
       "      <td>-0.34</td>\n",
       "      <td>1.11</td>\n",
       "      <td>indirect</td>\n",
       "      <td>yes</td>\n",
       "      <td>no</td>\n",
       "    </tr>\n",
       "    <tr>\n",
       "      <th>7</th>\n",
       "      <td>MoSeO</td>\n",
       "      <td>2D</td>\n",
       "      <td>hexagonal</td>\n",
       "      <td>-0.67</td>\n",
       "      <td>0.81</td>\n",
       "      <td>indirect</td>\n",
       "      <td>yes</td>\n",
       "      <td>no</td>\n",
       "    </tr>\n",
       "    <tr>\n",
       "      <th>8</th>\n",
       "      <td>WSO</td>\n",
       "      <td>2D</td>\n",
       "      <td>hexagonal</td>\n",
       "      <td>-0.86</td>\n",
       "      <td>0.47</td>\n",
       "      <td>indirect</td>\n",
       "      <td>yes</td>\n",
       "      <td>no</td>\n",
       "    </tr>\n",
       "    <tr>\n",
       "      <th>9</th>\n",
       "      <td>WSeO</td>\n",
       "      <td>bulk</td>\n",
       "      <td>cubic</td>\n",
       "      <td>-1.03</td>\n",
       "      <td>1.28</td>\n",
       "      <td>indirect</td>\n",
       "      <td>no</td>\n",
       "      <td>no</td>\n",
       "    </tr>\n",
       "    <tr>\n",
       "      <th>10</th>\n",
       "      <td>WTeO</td>\n",
       "      <td>bulk</td>\n",
       "      <td>hexagonal</td>\n",
       "      <td>-0.64</td>\n",
       "      <td>0.71</td>\n",
       "      <td>indirect</td>\n",
       "      <td>no</td>\n",
       "      <td>no</td>\n",
       "    </tr>\n",
       "    <tr>\n",
       "      <th>11</th>\n",
       "      <td>MoSSe</td>\n",
       "      <td>bulk</td>\n",
       "      <td>trigonal</td>\n",
       "      <td>-0.85</td>\n",
       "      <td>1.20</td>\n",
       "      <td>indirect</td>\n",
       "      <td>no</td>\n",
       "      <td>no</td>\n",
       "    </tr>\n",
       "    <tr>\n",
       "      <th>12</th>\n",
       "      <td>MoTeO</td>\n",
       "      <td>bulk</td>\n",
       "      <td>monoclinic</td>\n",
       "      <td>-1.66</td>\n",
       "      <td>2.59</td>\n",
       "      <td>indirect</td>\n",
       "      <td>no</td>\n",
       "      <td>yes</td>\n",
       "    </tr>\n",
       "  </tbody>\n",
       "</table>\n",
       "</div>"
      ],
      "text/plain": [
       "   material phase primitive_lattice_cell  formation_energy  band_gap  \\\n",
       "0      MoS2    2D              hexagonal             -1.06      1.64   \n",
       "1     MoSe2    2D              hexagonal             -0.68      1.46   \n",
       "2     MoTe2    2D              hexagonal             -0.27      0.66   \n",
       "3       WS2    2D              hexagonal             -0.88      3.18   \n",
       "4      WSe2    2D              hexagonal             -0.59      3.17   \n",
       "5      WTe2    2D              hexagonal             -0.08      0.81   \n",
       "6      MoSO    2D             tetragonal             -0.34      1.11   \n",
       "7     MoSeO    2D              hexagonal             -0.67      0.81   \n",
       "8       WSO    2D              hexagonal             -0.86      0.47   \n",
       "9      WSeO  bulk                  cubic             -1.03      1.28   \n",
       "10     WTeO  bulk              hexagonal             -0.64      0.71   \n",
       "11    MoSSe  bulk               trigonal             -0.85      1.20   \n",
       "12    MoTeO  bulk             monoclinic             -1.66      2.59   \n",
       "\n",
       "    type_gap janus_material experimentally_observed  \n",
       "0     direct             no                     yes  \n",
       "1     direct             no                      no  \n",
       "2     direct             no                      no  \n",
       "3     direct             no                     yes  \n",
       "4     direct             no                      no  \n",
       "5     direct             no                     yes  \n",
       "6   indirect            yes                      no  \n",
       "7   indirect            yes                      no  \n",
       "8   indirect            yes                      no  \n",
       "9   indirect             no                      no  \n",
       "10  indirect             no                      no  \n",
       "11  indirect             no                      no  \n",
       "12  indirect             no                     yes  "
      ]
     },
     "execution_count": 9,
     "metadata": {},
     "output_type": "execute_result"
    }
   ],
   "source": [
    "#Creating data set\n",
    "df_2d_materials=pd.read_csv('data_set_materials.csv')\n",
    "df_2d_materials\n"
   ]
  },
  {
   "cell_type": "code",
   "execution_count": 141,
   "id": "c9f403ad",
   "metadata": {},
   "outputs": [
    {
     "name": "stdout",
     "output_type": "stream",
     "text": [
      "Experimentaly observed yes: 4\n",
      "Experimentaly observed no: 9\n",
      "Hexagonal systems: 9\n",
      "monoclinic systems: 1\n",
      "trigonal systems: 1\n",
      "cubic systems: 1\n",
      "tetragonal systems: 1\n",
      "Number of band gap type direct: 6\n",
      "Number of band gap type indirect: 7\n"
     ]
    }
   ],
   "source": [
    "test = df_2d_materials.experimentally_observed=='yes'\n",
    "print('Experimentaly observed yes:',df_2d_materials.experimentally_observed[test].size)\n",
    "\n",
    "test2 = df_2d_materials.experimentally_observed=='no'\n",
    "print('Experimentaly observed no:',df_2d_materials.experimentally_observed[test2].size)\n",
    "\n",
    "test3 = df_2d_materials.primitive_lattice_cell=='hexagonal'\n",
    "print('Hexagonal systems:',df_2d_materials.primitive_lattice_cell[test3].size)\n",
    "\n",
    "test4 = df_2d_materials.primitive_lattice_cell=='monoclinic'\n",
    "print('monoclinic systems:',df_2d_materials.primitive_lattice_cell[test4].size)\n",
    "\n",
    "test5 = df_2d_materials.primitive_lattice_cell=='trigonal'\n",
    "print('trigonal systems:',df_2d_materials.primitive_lattice_cell[test5].size)\n",
    "\n",
    "test6 = df_2d_materials.primitive_lattice_cell=='cubic'\n",
    "print('cubic systems:',df_2d_materials.primitive_lattice_cell[test6].size)\n",
    "\n",
    "test7 = df_2d_materials.primitive_lattice_cell=='cubic'\n",
    "print('tetragonal systems:',df_2d_materials.primitive_lattice_cell[test7].size)\n",
    "\n",
    "test8 = df_2d_materials.type_gap=='direct'\n",
    "print('Number of band gap type direct:',df_2d_materials.type_gap[test8].size)\n",
    "\n",
    "test9 = df_2d_materials.type_gap=='indirect'\n",
    "print('Number of band gap type indirect:',df_2d_materials.type_gap[test9].size)"
   ]
  },
  {
   "cell_type": "markdown",
   "id": "882c63a7",
   "metadata": {},
   "source": [
    "### General description\n",
    "We observed that this materials has a band gap mean value of 1.4 eV with a standard deviation of 0.93 and a formation energy mean value of -0.74 eV/atom with a standard deviation of 0.4. Thirteen values were recorded for the minimum band gap and formation energy of -1.66 eV/atom and 0.47 eV, respectively. The maximum values were recorded as 0.08 eV/atom and 3.18 eV. "
   ]
  },
  {
   "cell_type": "code",
   "execution_count": 10,
   "id": "85ce93be",
   "metadata": {},
   "outputs": [
    {
     "data": {
      "text/html": [
       "<div>\n",
       "<style scoped>\n",
       "    .dataframe tbody tr th:only-of-type {\n",
       "        vertical-align: middle;\n",
       "    }\n",
       "\n",
       "    .dataframe tbody tr th {\n",
       "        vertical-align: top;\n",
       "    }\n",
       "\n",
       "    .dataframe thead th {\n",
       "        text-align: right;\n",
       "    }\n",
       "</style>\n",
       "<table border=\"1\" class=\"dataframe\">\n",
       "  <thead>\n",
       "    <tr style=\"text-align: right;\">\n",
       "      <th></th>\n",
       "      <th>formation_energy</th>\n",
       "      <th>band_gap</th>\n",
       "    </tr>\n",
       "  </thead>\n",
       "  <tbody>\n",
       "    <tr>\n",
       "      <th>count</th>\n",
       "      <td>13.000000</td>\n",
       "      <td>13.000000</td>\n",
       "    </tr>\n",
       "    <tr>\n",
       "      <th>mean</th>\n",
       "      <td>-0.739231</td>\n",
       "      <td>1.468462</td>\n",
       "    </tr>\n",
       "    <tr>\n",
       "      <th>std</th>\n",
       "      <td>0.401714</td>\n",
       "      <td>0.932781</td>\n",
       "    </tr>\n",
       "    <tr>\n",
       "      <th>min</th>\n",
       "      <td>-1.660000</td>\n",
       "      <td>0.470000</td>\n",
       "    </tr>\n",
       "    <tr>\n",
       "      <th>25%</th>\n",
       "      <td>-0.880000</td>\n",
       "      <td>0.810000</td>\n",
       "    </tr>\n",
       "    <tr>\n",
       "      <th>50%</th>\n",
       "      <td>-0.680000</td>\n",
       "      <td>1.200000</td>\n",
       "    </tr>\n",
       "    <tr>\n",
       "      <th>75%</th>\n",
       "      <td>-0.590000</td>\n",
       "      <td>1.640000</td>\n",
       "    </tr>\n",
       "    <tr>\n",
       "      <th>max</th>\n",
       "      <td>-0.080000</td>\n",
       "      <td>3.180000</td>\n",
       "    </tr>\n",
       "  </tbody>\n",
       "</table>\n",
       "</div>"
      ],
      "text/plain": [
       "       formation_energy   band_gap\n",
       "count         13.000000  13.000000\n",
       "mean          -0.739231   1.468462\n",
       "std            0.401714   0.932781\n",
       "min           -1.660000   0.470000\n",
       "25%           -0.880000   0.810000\n",
       "50%           -0.680000   1.200000\n",
       "75%           -0.590000   1.640000\n",
       "max           -0.080000   3.180000"
      ]
     },
     "execution_count": 10,
     "metadata": {},
     "output_type": "execute_result"
    }
   ],
   "source": [
    "#First generate a general statistical description of the datase\n",
    "df_2d_materials.describe()"
   ]
  },
  {
   "cell_type": "markdown",
   "id": "782148bc",
   "metadata": {},
   "source": [
    "### Graphical description"
   ]
  },
  {
   "cell_type": "code",
   "execution_count": 84,
   "id": "4b28e1d5",
   "metadata": {},
   "outputs": [
    {
     "data": {
      "text/plain": [
       "Text(0.5, 1.0, 'Band gaps energies')"
      ]
     },
     "execution_count": 84,
     "metadata": {},
     "output_type": "execute_result"
    },
    {
     "data": {
      "image/png": "[encoded data removed]",
      "text/plain": [
       "<Figure size 432x288 with 1 Axes>"
      ]
     },
     "metadata": {
      "needs_background": "light"
     },
     "output_type": "display_data"
    }
   ],
   "source": [
    "#First, create a general graphical description of the data\n",
    "x=df_2d_materials.loc[:,'band_gap']\n",
    "index=np.array([0,1,2,3,4,5,6,7,8,9,10,11,12])\n",
    "np.asarray(x)\n",
    "plt.hist(x)\n",
    "plt.xlabel('band gap (eV)')\n",
    "plt.ylabel('Number of elements')\n",
    "plt.title('Band gaps energies')"
   ]
  },
  {
   "cell_type": "code",
   "execution_count": 79,
   "id": "725d35b9",
   "metadata": {},
   "outputs": [
    {
     "data": {
      "text/plain": [
       "Text(0.5, 1.0, 'Formation energies')"
      ]
     },
     "execution_count": 79,
     "metadata": {},
     "output_type": "execute_result"
    },
    {
     "data": {
      "image/png": "[encoded data removed]",
      "text/plain": [
       "<Figure size 432x288 with 1 Axes>"
      ]
     },
     "metadata": {
      "needs_background": "light"
     },
     "output_type": "display_data"
    }
   ],
   "source": [
    "x1=df_2d_materials.loc[:,'formation_energy']\n",
    "np.asarray(x1)\n",
    "plt.hist(x1,color='red')\n",
    "plt.xlabel('formation energy ( $ \\\\frac{eV}{atom} $ )')\n",
    "plt.ylabel('Number of elements')\n",
    "plt.title('Formation energies')"
   ]
  },
  {
   "cell_type": "code",
   "execution_count": 15,
   "id": "e9bae390",
   "metadata": {},
   "outputs": [
    {
     "data": {
      "image/png": "[encoded data removed]",
      "text/plain": [
       "<Figure size 360x360 with 6 Axes>"
      ]
     },
     "metadata": {
      "needs_background": "light"
     },
     "output_type": "display_data"
    }
   ],
   "source": [
    "sns.pairplot(df_2d_materials)\n",
    "plt.show()"
   ]
  },
  {
   "cell_type": "code",
   "execution_count": 19,
   "id": "fb496488",
   "metadata": {},
   "outputs": [
    {
     "data": {
      "image/png": "[encoded data removed]",
      "text/plain": [
       "<Figure size 432x288 with 1 Axes>"
      ]
     },
     "metadata": {
      "needs_background": "light"
     },
     "output_type": "display_data"
    },
    {
     "data": {
      "image/png": "[encoded data removed]",
      "text/plain": [
       "<Figure size 432x288 with 1 Axes>"
      ]
     },
     "metadata": {
      "needs_background": "light"
     },
     "output_type": "display_data"
    }
   ],
   "source": [
    "df_2d_materials.plot.hist()  #histograma\n",
    "ax2 = df_2d_materials.plot.scatter(x='formation_energy',\n",
    "                       y='band_gap',\n",
    "                      colormap='viridis') #scattering de datos"
   ]
  },
  {
   "cell_type": "code",
   "execution_count": 151,
   "id": "3b4e4366",
   "metadata": {},
   "outputs": [
    {
     "data": {
      "text/plain": [
       "Text(0.5, 1.0, 'Type of primitive cell')"
      ]
     },
     "execution_count": 151,
     "metadata": {},
     "output_type": "execute_result"
    },
    {
     "data": {
      "image/png": "[encoded data removed]",
      "text/plain": [
       "<Figure size 432x288 with 1 Axes>"
      ]
     },
     "metadata": {},
     "output_type": "display_data"
    }
   ],
   "source": [
    "figureObject,axesObject=plt.subplots()\n",
    "axesObject.pie([9,1,1,1,1],labels=['hexagonal','monoclinic','cubic','trigonal;','tetragonal'],autopct='%1.1f',startangle=90)\n",
    "plt.title('Type of primitive cell')"
   ]
  },
  {
   "cell_type": "code",
   "execution_count": 152,
   "id": "45f4caaa",
   "metadata": {},
   "outputs": [
    {
     "data": {
      "text/plain": [
       "Text(0.5, 1.0, 'Clasification of nanostructure')"
      ]
     },
     "execution_count": 152,
     "metadata": {},
     "output_type": "execute_result"
    },
    {
     "data": {
      "image/png": "[encoded data removed]",
      "text/plain": [
       "<Figure size 432x288 with 1 Axes>"
      ]
     },
     "metadata": {},
     "output_type": "display_data"
    }
   ],
   "source": [
    "\n",
    "figureObject,axesObject=plt.subplots()\n",
    "axesObject.pie([9,6],labels=['2D','Bulk'],autopct='%1.1f',startangle=90)\n",
    "plt.title('Clasification of nanostructure')"
   ]
  },
  {
   "cell_type": "code",
   "execution_count": 148,
   "id": "abd0da42",
   "metadata": {},
   "outputs": [
    {
     "data": {
      "text/plain": [
       "Text(0.5, 1.0, 'Number of band gap types')"
      ]
     },
     "execution_count": 148,
     "metadata": {},
     "output_type": "execute_result"
    },
    {
     "data": {
      "image/png": "[encoded data removed]",
      "text/plain": [
       "<Figure size 432x288 with 1 Axes>"
      ]
     },
     "metadata": {},
     "output_type": "display_data"
    }
   ],
   "source": [
    "figureObject,axesObject=plt.subplots()\n",
    "axesObject.pie([6,7],labels=['direct','indirect'],autopct='%1.1f',startangle=90)\n",
    "plt.title('Number of band gap types')"
   ]
  },
  {
   "cell_type": "code",
   "execution_count": 147,
   "id": "69f3e389",
   "metadata": {},
   "outputs": [
    {
     "data": {
      "text/plain": [
       "Text(0.5, 1.0, 'Were they observed experimentally?')"
      ]
     },
     "execution_count": 147,
     "metadata": {},
     "output_type": "execute_result"
    },
    {
     "data": {
      "image/png": "[encoded data removed]",
      "text/plain": [
       "<Figure size 432x288 with 1 Axes>"
      ]
     },
     "metadata": {},
     "output_type": "display_data"
    }
   ],
   "source": [
    "figureObject,axesObject=plt.subplots()\n",
    "axesObject.pie([4,9],labels=['yes','no'],autopct='%1.1f',startangle=90)\n",
    "plt.title('Were they observed experimentally?')"
   ]
  },
  {
   "cell_type": "code",
   "execution_count": 91,
   "id": "3ea0db72",
   "metadata": {},
   "outputs": [
    {
     "data": {
      "text/plain": [
       "<AxesSubplot:xlabel='band_gap', ylabel='formation_energy'>"
      ]
     },
     "execution_count": 91,
     "metadata": {},
     "output_type": "execute_result"
    },
    {
     "data": {
      "image/png": "[encoded data removed]",
      "text/plain": [
       "<Figure size 432x288 with 2 Axes>"
      ]
     },
     "metadata": {
      "needs_background": "light"
     },
     "output_type": "display_data"
    }
   ],
   "source": [
    "df_2d_materials.plot.scatter(x='band_gap',\n",
    "                       y='formation_energy',\n",
    "                      c='band_gap',\n",
    "                      colormap='turbo_r') #scattering de datos"
   ]
  },
  {
   "cell_type": "code",
   "execution_count": null,
   "id": "c4b2a981",
   "metadata": {},
   "outputs": [],
   "source": []
  }
 ],
 "metadata": {
  "kernelspec": {
   "display_name": "Python 3 (ipykernel)",
   "language": "python",
   "name": "python3"
  },
  "language_info": {
   "codemirror_mode": {
    "name": "ipython",
    "version": 3
   },
   "file_extension": ".py",
   "mimetype": "text/x-python",
   "name": "python",
   "nbconvert_exporter": "python",
   "pygments_lexer": "ipython3",
   "version": "3.10.12"
  }
 },
 "nbformat": 4,
 "nbformat_minor": 5
}
